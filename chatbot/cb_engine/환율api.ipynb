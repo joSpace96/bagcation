{
 "cells": [
  {
   "cell_type": "code",
   "execution_count": 55,
   "metadata": {},
   "outputs": [
    {
     "name": "stdout",
     "output_type": "stream",
     "text": [
      "아랍에미리트 디르함, 1AED = 351.63원\n",
      "호주 달러, 1AUD = 878.35원\n",
      "바레인 디나르, 1BHD = 3,425.82원\n",
      "브루나이 달러, 1BND = 963.84원\n",
      "캐나다 달러, 1CAD = 981.46원\n",
      "스위스 프랑, 1CHF = 1,447.38원\n",
      "위안화, 1CNH = 179.54원\n",
      "덴마아크 크로네, 1DKK = 190.59원\n",
      "유로, 1EUR = 1,419.68원\n",
      "영국 파운드, 1GBP = 1,649.5원\n",
      "홍콩 달러, 1HKD = 164.98원\n",
      "인도네시아 루피아, 1IDR(100) = 8.64원\n",
      "일본 옌, 1JPY(100) = 911.5원\n",
      "한국 원, 1KRW = 1원\n",
      "쿠웨이트 디나르, 1KWD = 4,203.96원\n",
      "말레이지아 링기트, 1MYR = 278.04원\n",
      "노르웨이 크로네, 1NOK = 121.36원\n",
      "뉴질랜드 달러, 1NZD = 801.89원\n",
      "사우디 리얄, 1SAR = 344.26원\n",
      "스웨덴 크로나, 1SEK = 121.22원\n",
      "싱가포르 달러, 1SGD = 963.84원\n",
      "태국 바트, 1THB = 37.14원\n",
      "미국 달러, 1USD = 1,291.5원\n"
     ]
    }
   ],
   "source": [
    "import requests\n",
    "\n",
    "url = 'https://www.koreaexim.go.kr/site/program/financial/exchangeJSON'\n",
    "\n",
    "params = {\n",
    "    'authkey':'2YejuR3NOAbLGLn7SvH1ncMJuEQYwSY9',\n",
    "    'data':'AP01'\n",
    "}\n",
    "\n",
    "response = requests.get(url,params)\n",
    "data = response.json()\n",
    "\n",
    "def currency_info():\n",
    "    for item in data:\n",
    "        country_name = item['cur_nm']\n",
    "        country_sym = item['cur_unit']\n",
    "        exchange_rate = item['deal_bas_r']\n",
    "        print(f\"{country_name}, 1{country_sym} = {exchange_rate}원\")\n",
    "\n",
    "currency_info()\n",
    "\n",
    "\n"
   ]
  },
  {
   "cell_type": "code",
   "execution_count": null,
   "metadata": {},
   "outputs": [],
   "source": [
    "# 전체 환율 목록\n",
    "\n",
    "from selenium import webdriver\n",
    "from selenium.webdriver.chrome.options import Options\n",
    "from selenium.webdriver.chrome.service import Service\n",
    "from selenium.webdriver.common.by import By\n",
    "\n",
    "# Chrome 웹 드라이버 옵션 설정\n",
    "options = Options()\n",
    "\n",
    "options.headless = True\n",
    "\n",
    "driver = webdriver.Chrome(options=options) \n",
    "\n",
    "driver.get('http://www.smbs.biz/ExRate/TodayExRate.jsp')\n",
    "\n",
    "nation_elements = driver.find_elements(By.CSS_SELECTOR, 'p[class^=\"nation\"]:not(.nation7)')\n",
    "rate_elements = driver.find_elements(By.CSS_SELECTOR, 'strong[class^=\"txt_point\"]')\n",
    "\n",
    "# 국가명과 환율 정보 출력\n",
    "for nation_element, rate_element in zip(nation_elements, rate_elements):\n",
    "    country = nation_element.get_attribute('innerText').strip()\n",
    "    rate = rate_element.get_attribute('innerText').strip().replace(',', '')\n",
    "    print(f\"{country} 원\")\n",
    "\n",
    "driver.quit()"
   ]
  },
  {
   "cell_type": "code",
   "execution_count": 11,
   "metadata": {},
   "outputs": [
    {
     "name": "stderr",
     "output_type": "stream",
     "text": [
      "C:\\Users\\oem\\AppData\\Local\\Temp\\ipykernel_9768\\1092038162.py:6: DeprecationWarning: headless property is deprecated, instead use add_argument('--headless') or add_argument('--headless=new')\n",
      "  options.headless = True\n"
     ]
    },
    {
     "name": "stdout",
     "output_type": "stream",
     "text": [
      "{'스웨덴': {'rate': '120.71', 'unit': 'sek'}, '영국': {'rate': '1,646.15', 'unit': 'gbp'}, '노르웨이': {'rate': '121.22', 'unit': 'nok'}, '덴마크': {'rate': '189.94', 'unit': 'dkk'}, '유로': {'rate': '1,414.79', 'unit': 'eur'}, '스위스': {'rate': '1,443.07', 'unit': 'chf'}, '쿠웨이트': {'rate': '4,202.27', 'unit': 'kwd'}, '일본': {'rate': '902.67', 'unit': 'jpy'}, '바레인': {'rate': '3,425.56', 'unit': 'bhd'}, '홍콩': {'rate': '164.92', 'unit': 'hkd'}, '사우디아라비아': {'rate': '344.28', 'unit': 'sar'}, '아랍에미리트': {'rate': '351.60', 'unit': 'aed'}, '태국': {'rate': '36.74', 'unit': 'thb'}, '말레이시아': {'rate': '277.66', 'unit': 'myr'}, '싱가포르': {'rate': '960.29', 'unit': 'sgd'}, '인도네시아': {'rate': '8.64', 'unit': 'idr'}, '호주': {'rate': '873.12', 'unit': 'aud'}, '뉴질랜드': {'rate': '798.34', 'unit': 'nzd'}, '캐나다': {'rate': '982.28', 'unit': 'cad'}, '미국': {'rate': '1,291.40', 'unit': 'usd'}, '위안': {'rate': '179.71', 'unit': 'cnh'}, '대만': {'rate': '41.65', 'unit': 'twd'}, '몽골': {'rate': '0.37', 'unit': 'mnt'}, '카자흐스탄': {'rate': '2.89', 'unit': 'kzt'}, '필리핀': {'rate': '23.22', 'unit': 'php'}, '베트남': {'rate': '5.49', 'unit': 'vnd'}, '브루나이': {'rate': '960.29', 'unit': 'bnd'}, '인도': {'rate': '15.76', 'unit': 'inr'}, '파키스탄': {'rate': '4.50', 'unit': 'pkr'}, '방글라데시': {'rate': '11.94', 'unit': 'bdt'}, '멕시코': {'rate': '75.13', 'unit': 'mxn'}, '브라질': {'rate': '270.54', 'unit': 'brl'}, '아르헨티나': {'rate': '5.11', 'unit': 'ars'}, '러시아': {'rate': '15.95', 'unit': 'rub'}, '헝가리': {'rate': '3.83', 'unit': 'huf'}, '폴란드': {'rate': '319.76', 'unit': 'pln'}, '체코': {'rate': '59.78', 'unit': 'czk'}, '카타르': {'rate': '354.40', 'unit': 'qar'}, '이스라엘': {'rate': '356.58', 'unit': 'ils'}, '요르단': {'rate': '1,820.16', 'unit': 'jod'}, '튀르키예': {'rate': '51.90', 'unit': 'try'}, '남아프리카공화국': {'rate': '69.74', 'unit': 'zar'}, '이집트': {'rate': '41.77', 'unit': 'egp'}, '캄보디아': {'rate': '0.31', 'unit': 'khr'}, '마카오': {'rate': '160.04', 'unit': 'mop'}, '네팔': {'rate': '9.85', 'unit': 'npr'}, '스리랑카': {'rate': '4.21', 'unit': 'lkr'}, '우즈베키스탄': {'rate': '0.11', 'unit': 'uzs'}, '미얀마': {'rate': '0.61', 'unit': 'mmk'}, '칠레': {'rate': '1.61', 'unit': 'clp'}, '콜롬비아': {'rate': '0.31', 'unit': 'cop'}, '루마니아': {'rate': '285.10', 'unit': 'ron'}, '오만': {'rate': '3,354.37', 'unit': 'omr'}, '케냐': {'rate': '9.20', 'unit': 'kes'}, '리비아': {'rate': '269.64', 'unit': 'lyd'}, '에티오피아': {'rate': '23.49', 'unit': 'etb'}, '피지': {'rate': '577.38', 'unit': 'fjd'}}\n",
      "미국, 1USD: 1,291.40 원\n"
     ]
    }
   ],
   "source": [
    "from selenium import webdriver\n",
    "from selenium.webdriver.chrome.options import Options\n",
    "from selenium.webdriver.common.by import By\n",
    "\n",
    "options = Options()\n",
    "options.headless = True\n",
    "\n",
    "driver = webdriver.Chrome(options=options)\n",
    "driver.get('http://www.smbs.biz/ExRate/TodayExRate.jsp')\n",
    "\n",
    "nation_elements = driver.find_elements(By.CSS_SELECTOR, 'p[class^=\"nation\"]:not(.nation7)')\n",
    "rate_elements = driver.find_elements(By.CSS_SELECTOR, 'strong')\n",
    "exchange_rates = {}\n",
    "\n",
    "for nation_element, rate_element in zip(nation_elements, rate_elements):\n",
    "    country = nation_element.get_attribute('innerText').strip()\n",
    "    rate = rate_element.get_attribute('innerText').strip()\n",
    "    unit = rate_element.get_attribute('id').strip()\n",
    "\n",
    "    if unit:\n",
    "        country_name = country.split(' ')[0]\n",
    "        exchange_rates[country_name] = {\n",
    "            'rate': rate,\n",
    "            'unit': unit\n",
    "        }\n",
    "\n",
    "print(exchange_rates)\n",
    "\n",
    "country_name = input('국가 이름: ')\n",
    "\n",
    "if country_name in exchange_rates:\n",
    "    country_info = exchange_rates[country_name]\n",
    "    rate = country_info['rate']\n",
    "    unit = country_info['unit']\n",
    "\n",
    "    print(f\"{country_name}, 1{unit.upper()}: {rate} 원\")\n",
    "else:\n",
    "    print(f\"{country_name}의 환율 정보가 없습니다.\")\n",
    "\n",
    "driver.quit()\n"
   ]
  },
  {
   "cell_type": "code",
   "execution_count": null,
   "metadata": {},
   "outputs": [],
   "source": [
    "import requests\n",
    "from bs4 import BeautifulSoup\n",
    "\n",
    "url = 'https://finance.naver.com/marketindex/?tabSel=exchange#tab_section'\n",
    "\n",
    "response = requests.get(url)\n",
    "soup = BeautifulSoup(response.text, 'html.parser')\n",
    "\n",
    "option_elements = soup.find_all('option')\n",
    "exchange_rates = {}\n",
    "\n",
    "for option_element in option_elements:\n",
    "    country = option_element.get_text(strip=True)\n",
    "    value = option_element['value']\n",
    "    exchange_rates[country] = value\n",
    "\n",
    "for country, value in exchange_rates.items():\n",
    "    print(f\"{country}: {value}\")\n"
   ]
  },
  {
   "cell_type": "code",
   "execution_count": null,
   "metadata": {},
   "outputs": [],
   "source": [
    "import requests\n",
    "from bs4 import BeautifulSoup\n",
    "\n",
    "url = 'https://finance.naver.com/marketindex/?tabSel=exchange#tab_section'\n",
    "\n",
    "response = requests.get(url)\n",
    "soup = BeautifulSoup(response.text, 'html.parser')\n",
    "\n",
    "option_elements = soup.find_all('option')\n",
    "exchange_rates = {}\n",
    "\n",
    "for option_element in option_elements:\n",
    "    country_unit = option_element.get_text(strip=True)\n",
    "    value = option_element['value']\n",
    "    country, unit = country_unit.split(' ', 1)\n",
    "    exchange_rates[country] = {'value': value, 'unit': unit}\n",
    "\n",
    "for country, data in exchange_rates.items():\n",
    "    value = data['value']\n",
    "    unit = data['unit']\n",
    "    print(f\"{country}: {value}원 ({unit})\")\n"
   ]
  },
  {
   "cell_type": "code",
   "execution_count": 38,
   "metadata": {},
   "outputs": [
    {
     "name": "stdout",
     "output_type": "stream",
     "text": [
      "해당 나라의 환율 정보를 찾을 수 없습니다.\n"
     ]
    }
   ],
   "source": [
    "import requests\n",
    "from bs4 import BeautifulSoup\n",
    "\n",
    "url = 'https://finance.naver.com/marketindex/?tabSel=exchange#tab_section'\n",
    "\n",
    "response = requests.get(url)\n",
    "soup = BeautifulSoup(response.text, 'html.parser')\n",
    "\n",
    "option_elements = soup.find_all('option')\n",
    "exchange_rates = {}\n",
    "\n",
    "for option_element in option_elements:\n",
    "    country_unit = option_element.get_text(strip=True)\n",
    "    value = option_element['value']\n",
    "    country, unit = country_unit.split(' ', 1)\n",
    "    exchange_rates[country] = {'value': value, 'unit': unit}\n",
    "\n",
    "# 나라 이름 입력 받기\n",
    "country_name = input(\"나라 이름을 입력하세요: \")\n",
    "\n",
    "if country_name in exchange_rates:\n",
    "    data = exchange_rates[country_name]\n",
    "    value = data['value']\n",
    "    unit = data['unit']\n",
    "    print(f\"{country_name}: 1{unit} = {value}원 \")\n",
    "else:\n",
    "    print(\"해당 나라의 환율 정보를 찾을 수 없습니다.\")\n"
   ]
  },
  {
   "cell_type": "code",
   "execution_count": 45,
   "metadata": {},
   "outputs": [
    {
     "name": "stdout",
     "output_type": "stream",
     "text": [
      "미국: 1달러 USD = 1300.6원 \n"
     ]
    }
   ],
   "source": [
    "def get_exchange_rate():\n",
    "    url = 'https://finance.naver.com/marketindex/?tabSel=exchange#tab_section'\n",
    "\n",
    "    response = requests.get(url)\n",
    "    soup = BeautifulSoup(response.text, 'html.parser')\n",
    "\n",
    "    option_elements = soup.find_all('option')\n",
    "    exchange_rates = {}\n",
    "\n",
    "    country_name = '미국'\n",
    "\n",
    "    for option_element in option_elements:\n",
    "        country_unit = option_element.get_text(strip=True)\n",
    "        value = option_element['value']\n",
    "        country, unit = country_unit.split(' ', 1)\n",
    "        exchange_rates[country] = {'value': value, 'unit': unit}\n",
    "\n",
    "    # 나라 이름 입력 받기\n",
    "    \n",
    "\n",
    "    if country_name in exchange_rates:\n",
    "        data = exchange_rates[country_name]\n",
    "        value = data['value']\n",
    "        unit = data['unit']\n",
    "        return f\"{country_name}: 1{unit} = {value}원 \"\n",
    "    else:\n",
    "        return \"해당 나라의 환율 정보를 찾을 수 없습니다.\"\n",
    "\n",
    "# 함수 호출하여 환율 정보 출력\n",
    "print(get_exchange_rate())"
   ]
  }
 ],
 "metadata": {
  "kernelspec": {
   "display_name": "venv",
   "language": "python",
   "name": "python3"
  },
  "language_info": {
   "codemirror_mode": {
    "name": "ipython",
    "version": 3
   },
   "file_extension": ".py",
   "mimetype": "text/x-python",
   "name": "python",
   "nbconvert_exporter": "python",
   "pygments_lexer": "ipython3",
   "version": "3.11.1"
  },
  "orig_nbformat": 4
 },
 "nbformat": 4,
 "nbformat_minor": 2
}
